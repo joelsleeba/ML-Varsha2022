{
  "cells": [
    {
      "cell_type": "code",
      "execution_count": 11,
      "id": "a669dd48-ff28-479d-9742-7fa2f62f1569",
      "metadata": {
        "id": "a669dd48-ff28-479d-9742-7fa2f62f1569"
      },
      "outputs": [],
      "source": [
        "from matplotlib import pyplot as plt\n",
        "from sklearn import datasets\n",
        "import numpy as np\n",
        "import random\n",
        "from IPython.display import clear_output"
      ]
    },
    {
      "cell_type": "code",
      "execution_count": 12,
      "id": "805977a2-6702-4238-a9fb-63c0842fe2da",
      "metadata": {
        "id": "805977a2-6702-4238-a9fb-63c0842fe2da"
      },
      "outputs": [],
      "source": [
        "l2norm = lambda x: sum([i**2 for i in x])\n",
        "\n",
        "normalize = lambda x, norm : x/norm(x)\n",
        "\n",
        "def sign(x):\n",
        "    if x>0:\n",
        "        return 1\n",
        "    elif x<0:\n",
        "        return -1\n",
        "    else:\n",
        "        return 0\n",
        "\n",
        "# input two numpy vectors\n",
        "def linfun(w, x):\n",
        "    return 1 if np.inner(w,x) > 0 else -1\n",
        "\n",
        "# input a 2D vector to get the perpendicular to \n",
        "def prp2D(X):\n",
        "    if X[0] != 0:\n",
        "      temp = [-1*X[1]/X[0] , 1]\n",
        "    else:\n",
        "      temp = [1 , -1*X[0]/X[1]]\n",
        "    return temp\n",
        "    \n",
        "class Perceptron():\n",
        "    \n",
        "    def __init__(self, data, objfunc, norm):\n",
        "        self.data = data\n",
        "        self.dataX = np.array([x for x, y in self.data])\n",
        "        self.datay = np.array([y for x, y in self.data])\n",
        "        self.dimension = len(self.data[0][0])\n",
        "        self.objfunc = objfunc\n",
        "        self.norm = norm\n",
        "        self.w = np.array([0 for _ in range(self.dimension)])\n",
        "        self.wprp = None\n",
        "        self.plot_auto_update = False\n",
        "        self.iteration = 0\n",
        "        \n",
        "    def display(self):\n",
        "        fig = plt.figure(figsize=(10,8))\n",
        "        plt.plot(self.dataX[:, 0][self.datay == 0], self.dataX[:, 1][self.datay == 0], 'r^')\n",
        "        plt.plot(self.dataX[:, 0][self.datay == 1], self.dataX[:, 1][self.datay == 1], 'bs')\n",
        "        plt.xlabel(\"feature 1\")\n",
        "        plt.ylabel(\"feature 2\")\n",
        "        plt.title('Random Classification Data with 2 classes')\n",
        "        self.wprp = prp2D(self.w)\n",
        "        plt.quiver([0], [0], self.w[0], self.w[1], color = 'black')\n",
        "        plt.quiver([0], [0], self.wprp[0], self.wprp[1], color = 'g')\n",
        "        plt.show()\n",
        "\n",
        "    def auto_update_plot(self):\n",
        "        if not self.plot_auto_update:\n",
        "            auto_update = input(f\"Iteration @ {self.iteration} Auto Update? (y/n):\")\n",
        "            if auto_update == 'y':\n",
        "                self.plot_auto_update = True\n",
        "            else:\n",
        "                clear_output(wait=True)\n",
        "        else:\n",
        "            clear_output(wait=True)\n",
        "    \n",
        "    def fit(self):\n",
        "        self.iteration = 0\n",
        "        while True:\n",
        "            solved = True\n",
        "            # self.display()\n",
        "            # self.auto_update_plot()\n",
        "            x, y = random.choice(self.data)\n",
        "            h = self.objfunc(self.w, x) # this will be '1' or '-1'\n",
        "            if not ((y == h) or (y == 0 and h == -1)): # because when y = 0 and h = -1 it means the same thing\n",
        "                t = -1 if y == 0 else 1\n",
        "                self.w = self.w + t*x\n",
        "                self.iteration += 1\n",
        "                solved = False\n",
        "            else:\n",
        "                # Check if the model is solved\n",
        "                for x, y in self.data:\n",
        "                    h = self.objfunc(self.w, x) # this will be '1' or '-1'\n",
        "                    if not ((h == y) or (h == -1 and y == 0)):\n",
        "                        solved = False\n",
        "                        break\n",
        "            if solved:\n",
        "                break\n",
        "        self.display()"
      ]
    },
    {
      "cell_type": "code",
      "execution_count": 13,
      "id": "b922a203-629e-454a-af7c-cc708ed87e61",
      "metadata": {
        "id": "b922a203-629e-454a-af7c-cc708ed87e61"
      },
      "outputs": [],
      "source": [
        "X, y = datasets.make_blobs(n_samples=10500,n_features=2,\n",
        "                           centers=2,cluster_std=1.05,\n",
        "                           random_state=51)"
      ]
    },
    {
      "cell_type": "code",
      "execution_count": 14,
      "id": "8ae46f99-d358-4814-a7ca-0699e560f7ea",
      "metadata": {
        "colab": {
          "base_uri": "https://localhost:8080/",
          "height": 513
        },
        "id": "8ae46f99-d358-4814-a7ca-0699e560f7ea",
        "outputId": "814c952b-b72c-466f-d334-13be3493e686"
      },
      "outputs": [
        {
          "output_type": "display_data",
          "data": {
            "text/plain": [
              "<Figure size 720x576 with 1 Axes>"
            ],
            "image/png": "[encoded data removed]"
          },
          "metadata": {
            "needs_background": "light"
          }
        }
      ],
      "source": [
        "model_data = [(X[i], y[i]) for i in range(len(X))]\n",
        "model = Perceptron(model_data, linfun, l2norm)\n",
        "model.fit()"
      ]
    },
    {
      "cell_type": "code",
      "source": [
        "model.w"
      ],
      "metadata": {
        "colab": {
          "base_uri": "https://localhost:8080/"
        },
        "id": "cX8SJBxw9yjt",
        "outputId": "ed56388a-0ad2-450a-c59c-b61b4e21ebaf"
      },
      "id": "cX8SJBxw9yjt",
      "execution_count": 8,
      "outputs": [
        {
          "output_type": "execute_result",
          "data": {
            "text/plain": [
              "array([-3.57144094,  3.1660373 ])"
            ]
          },
          "metadata": {},
          "execution_count": 8
        }
      ]
    },
    {
      "cell_type": "code",
      "source": [
        "prp2D(model.w)"
      ],
      "metadata": {
        "colab": {
          "base_uri": "https://localhost:8080/"
        },
        "id": "BmE1wbwr-ZUl",
        "outputId": "ebb8a5f0-1260-41d6-ea24-199d03c07167"
      },
      "id": "BmE1wbwr-ZUl",
      "execution_count": 9,
      "outputs": [
        {
          "output_type": "execute_result",
          "data": {
            "text/plain": [
              "[0.8864873730978824, 1]"
            ]
          },
          "metadata": {},
          "execution_count": 9
        }
      ]
    },
    {
      "cell_type": "code",
      "execution_count": 10,
      "id": "5b1f45df-b3f6-461a-af12-e182901683f7",
      "metadata": {
        "colab": {
          "base_uri": "https://localhost:8080/"
        },
        "id": "5b1f45df-b3f6-461a-af12-e182901683f7",
        "outputId": "e26885d1-8598-434f-eb4c-ec5e8bff1aa2"
      },
      "outputs": [
        {
          "output_type": "execute_result",
          "data": {
            "text/plain": [
              "[0.8864873730978824, 1]"
            ]
          },
          "metadata": {},
          "execution_count": 10
        }
      ],
      "source": [
        "model.wprp"
      ]
    },
    {
      "cell_type": "code",
      "source": [
        "J"
      ],
      "metadata": {
        "id": "m3z62BbV98Id"
      },
      "id": "m3z62BbV98Id",
      "execution_count": null,
      "outputs": []
    }
  ],
  "metadata": {
    "kernelspec": {
      "display_name": "Python 3 (ipykernel)",
      "language": "python",
      "name": "python3"
    },
    "language_info": {
      "codemirror_mode": {
        "name": "ipython",
        "version": 3
      },
      "file_extension": ".py",
      "mimetype": "text/x-python",
      "name": "python",
      "nbconvert_exporter": "python",
      "pygments_lexer": "ipython3",
      "version": "3.10.6"
    },
    "colab": {
      "provenance": []
    }
  },
  "nbformat": 4,
  "nbformat_minor": 5
}